{
 "cells": [
  {
   "cell_type": "code",
   "execution_count": null,
   "metadata": {},
   "outputs": [],
   "source": [
    "# SCRAPER\n",
    "\n",
    "import requests\n",
    "from bs4 import BeautifulSoup\n",
    "\n",
    "url = \"https://en.wikipedia.org/wiki/GPT-4\"\n",
    "response = requests.get(url)\n",
    "\n",
    "soup = BeautifulSoup(response.content, 'html.parser')\n",
    "\n",
    "content_div = soup.find('div', {'class': 'mw-parser-output'})\n",
    "\n",
    "unwanted_tags = ['sup','span','table','ul','ol']\n",
    "for tag in unwanted_tags:\n",
    "    for match in content_div.findAll(tag):\n",
    "        match.extract()\n",
    "\n",
    "print(content_div.get_text())\n"
   ]
  },
  {
   "cell_type": "code",
   "execution_count": 8,
   "metadata": {},
   "outputs": [
    {
     "name": "stdout",
     "output_type": "stream",
     "text": [
      "page_content='\"ChatGPT-4\" redirects here. For other uses, see GPT.2023 text-generating language model' metadata={}\n",
      "page_content='Generative Pre-trained Transformer 4 (GPT-4) is a multimodal large language model created by' metadata={}\n",
      "page_content='Pre-trained Transformer 4 (GPT-4) is a multimodal large language model created by OpenAI, and the' metadata={}\n",
      "page_content='Transformer 4 (GPT-4) is a multimodal large language model created by OpenAI, and the fourth in its' metadata={}\n"
     ]
    }
   ],
   "source": [
    "# SPLITTER\n",
    "\n",
    "from langchain.text_splitter import RecursiveCharacterTextSplitter\n",
    "\n",
    "article_text = content_div.get_text()\n",
    "\n",
    "text_splitter = RecursiveCharacterTextSplitter(\n",
    "    # set a small chunk size to start with\n",
    "    chunk_size=100,\n",
    "    chunk_overlap = 20,\n",
    "    length_function = len,\n",
    ")\n",
    "\n",
    "texts = text_splitter.create_documents([article_text])\n",
    "print(texts[0])\n",
    "print(texts[1])\n",
    "print(texts[2])\n",
    "print(texts[3])\n",
    "\n"
   ]
  }
 ],
 "metadata": {
  "kernelspec": {
   "display_name": "venv",
   "language": "python",
   "name": "python3"
  },
  "language_info": {
   "codemirror_mode": {
    "name": "ipython",
    "version": 3
   },
   "file_extension": ".py",
   "mimetype": "text/x-python",
   "name": "python",
   "nbconvert_exporter": "python",
   "pygments_lexer": "ipython3",
   "version": "3.11.3"
  },
  "orig_nbformat": 4
 },
 "nbformat": 4,
 "nbformat_minor": 2
}
